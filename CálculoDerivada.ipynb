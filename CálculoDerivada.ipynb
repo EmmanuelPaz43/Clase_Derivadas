{
  "nbformat": 4,
  "nbformat_minor": 0,
  "metadata": {
    "colab": {
      "name": "CálculoDerivada.ipynb",
      "provenance": [],
      "authorship_tag": "ABX9TyN+jhCfoXEVV6b0jeUB74Qz",
      "include_colab_link": true
    },
    "kernelspec": {
      "name": "python3",
      "display_name": "Python 3"
    },
    "language_info": {
      "name": "python"
    }
  },
  "cells": [
    {
      "cell_type": "markdown",
      "metadata": {
        "id": "view-in-github",
        "colab_type": "text"
      },
      "source": [
        "<a href=\"https://colab.research.google.com/github/EmmanuelPaz43/Clase_Derivadas/blob/main/C%C3%A1lculoDerivada.ipynb\" target=\"_parent\"><img src=\"https://colab.research.google.com/assets/colab-badge.svg\" alt=\"Open In Colab\"/></a>"
      ]
    },
    {
      "cell_type": "code",
      "metadata": {
        "colab": {
          "base_uri": "https://localhost:8080/"
        },
        "id": "FMuCGHg8BcVV",
        "outputId": "d2a4121e-f7f5-4336-8901-210d816c7622"
      },
      "source": [
        "import matplotlib.pyplot as plt\n",
        "import numpy as np \n",
        "import math\n",
        "\n",
        "def f1(A, T, t, h):\n",
        "    return A*np.sin((2*np.pi/T)*(t+h))\n",
        "\n",
        "def f2(A, T, t):\n",
        "    return A*np.sin((2*np.pi/T)*t)                    \n",
        "\n",
        "A=float(input(\"Ingrese la amplitud del oscilador en metros: \"))\n",
        "T=float(input(\"Ingrese el periodo del oscilador en segundos: \"))\n",
        "t=float(input(\"Ingrese el punto del tiempo en segundos donde quiere calcular la derivada: \"))\n",
        "h=float(input(\"Ingrese el valor del incremento: \"))\n",
        "\n",
        "print(\"El valor de de la derivada de x es: \", (f1(A, T, t, h)-f2(A, T, t))/h)\n"
      ],
      "execution_count": 19,
      "outputs": [
        {
          "output_type": "stream",
          "name": "stdout",
          "text": [
            "Ingrese la amplitud del oscilador en metros: 5\n",
            "Ingrese el periodo del oscilador en segundos: 2\n",
            "Ingrese el punto del tiempo en segundos donde quiere calcular la derivada: 3\n",
            "Ingrese el valor del incremento: 0.5\n",
            "El valor de de la derivada de x es:  -10.000000000000004\n"
          ]
        }
      ]
    }
  ]
}